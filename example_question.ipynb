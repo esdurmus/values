{
 "cells": [
  {
   "cell_type": "code",
   "execution_count": 1,
   "id": "92ceb926",
   "metadata": {},
   "outputs": [],
   "source": [
    "import pickle"
   ]
  },
  {
   "cell_type": "code",
   "execution_count": 2,
   "id": "5398bab5",
   "metadata": {},
   "outputs": [],
   "source": [
    "data = pickle.load(open(\"GlobalOpinionQA.pkl\",\"rb\"))"
   ]
  },
  {
   "cell_type": "markdown",
   "id": "8bcf67b2",
   "metadata": {},
   "source": [
    "# Example question"
   ]
  },
  {
   "cell_type": "code",
   "execution_count": 3,
   "id": "ee43c928",
   "metadata": {},
   "outputs": [
    {
     "data": {
      "text/plain": [
       "('Now I am going to read you a list of things that may be problems in our country.  As I read each one, please tell me if you think it is a very big problem, a moderately big problem, a small problem or not a problem at all...Access to drinking water',\n",
       " {'country_selections': {'Brazil': [27.27272727272727,\n",
       "    39.39393939393939,\n",
       "    23.232323232323232,\n",
       "    10.1010101010101],\n",
       "   'India (Non-national sample)': [51.0, 28.999999999999996, 11.0, 9.0],\n",
       "   'Pakistan': [72.16494845360825,\n",
       "    15.463917525773196,\n",
       "    6.185567010309279,\n",
       "    6.185567010309279]},\n",
       "  'options': ['Very big problem',\n",
       "   'Moderately big problem',\n",
       "   'Small problem',\n",
       "   'Not a problem at all']})"
      ]
     },
     "execution_count": 3,
     "metadata": {},
     "output_type": "execute_result"
    }
   ],
   "source": [
    "list(data.items())[0]"
   ]
  },
  {
   "cell_type": "markdown",
   "id": "aa3534b9",
   "metadata": {},
   "source": [
    "# Response Options"
   ]
  },
  {
   "cell_type": "code",
   "execution_count": 5,
   "id": "f9bcf356",
   "metadata": {},
   "outputs": [
    {
     "data": {
      "text/plain": [
       "['Very big problem',\n",
       " 'Moderately big problem',\n",
       " 'Small problem',\n",
       " 'Not a problem at all']"
      ]
     },
     "execution_count": 5,
     "metadata": {},
     "output_type": "execute_result"
    }
   ],
   "source": [
    "list(data.values())[0][\"options\"]"
   ]
  },
  {
   "cell_type": "markdown",
   "id": "63471bbf",
   "metadata": {},
   "source": [
    "# Country selections"
   ]
  },
  {
   "cell_type": "raw",
   "id": "53680304",
   "metadata": {},
   "source": [
    "# Percentage of people who select the each of the option above"
   ]
  },
  {
   "cell_type": "code",
   "execution_count": 6,
   "id": "cc3a8134",
   "metadata": {},
   "outputs": [
    {
     "data": {
      "text/plain": [
       "{'Brazil': [27.27272727272727,\n",
       "  39.39393939393939,\n",
       "  23.232323232323232,\n",
       "  10.1010101010101],\n",
       " 'India (Non-national sample)': [51.0, 28.999999999999996, 11.0, 9.0],\n",
       " 'Pakistan': [72.16494845360825,\n",
       "  15.463917525773196,\n",
       "  6.185567010309279,\n",
       "  6.185567010309279]}"
      ]
     },
     "execution_count": 6,
     "metadata": {},
     "output_type": "execute_result"
    }
   ],
   "source": [
    "list(data.values())[0][\"country_selections\"]"
   ]
  }
 ],
 "metadata": {
  "kernelspec": {
   "display_name": "Python 3",
   "language": "python",
   "name": "python3"
  },
  "language_info": {
   "codemirror_mode": {
    "name": "ipython",
    "version": 3
   },
   "file_extension": ".py",
   "mimetype": "text/x-python",
   "name": "python",
   "nbconvert_exporter": "python",
   "pygments_lexer": "ipython3",
   "version": "3.7.4"
  }
 },
 "nbformat": 4,
 "nbformat_minor": 5
}
